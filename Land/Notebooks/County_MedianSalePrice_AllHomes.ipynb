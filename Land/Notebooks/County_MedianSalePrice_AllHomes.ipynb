{
 "cells": [
  {
   "cell_type": "code",
   "execution_count": 42,
   "metadata": {},
   "outputs": [],
   "source": [
    "#Imports\n",
    "import pandas as pd\n",
    "import pyodbc\n",
    "import sqlalchemy\n",
    "from sqlalchemy import create_engine\n",
    "import urllib\n",
    "import numpy as np"
   ]
  },
  {
   "cell_type": "code",
   "execution_count": 43,
   "metadata": {},
   "outputs": [
    {
     "name": "stdout",
     "output_type": "stream",
     "text": [
      "Nathan Young\n",
      "Junior Data Analyst\n",
      "Center for the Study of Free Enterprise\n",
      "The watermark extension is already loaded. To reload it, use:\n",
      "  %reload_ext watermark\n",
      "Western Carolina University \n",
      "last updated: 2020-02-23 \n",
      "\n",
      "pandas 1.0.1\n"
     ]
    }
   ],
   "source": [
    "# Watermark\n",
    "print('Nathan Young\\nJunior Data Analyst\\nCenter for the Study of Free Enterprise')\n",
    "%load_ext watermark\n",
    "%watermark -a \"Western Carolina University\" -u -d -p pandas"
   ]
  },
  {
   "cell_type": "code",
   "execution_count": 44,
   "metadata": {},
   "outputs": [],
   "source": [
    "# Create Backups\n",
    "#df_backup = pd.read_csv('./Updates/STG_ZLLW_County_MedianListingPrice_AllHomes.txt')\n",
    "#df_backup.to_csv('./Backups/STG_ZLLW_County_MedianListingPrice_AllHomes_BACKUP.txt')"
   ]
  },
  {
   "cell_type": "code",
   "execution_count": 45,
   "metadata": {
    "scrolled": false
   },
   "outputs": [],
   "source": [
    "#Load Land data\n",
    "df_msp = pd.read_csv('http://files.zillowstatic.com/research/public/County/Sale_Prices_County.csv',\n",
    "                     encoding='ISO-8859-1')"
   ]
  },
  {
   "cell_type": "code",
   "execution_count": 46,
   "metadata": {
    "scrolled": true
   },
   "outputs": [],
   "source": [
    "df_msp = df_msp.drop(columns = ['RegionID'], axis = 1)"
   ]
  },
  {
   "cell_type": "code",
   "execution_count": 47,
   "metadata": {
    "scrolled": true
   },
   "outputs": [],
   "source": [
    "#Filter data to NC\n",
    "filter1 = df_msp['StateName'] == \"North Carolina\"\n",
    "df_msp_nc = df_msp[filter1]"
   ]
  },
  {
   "cell_type": "code",
   "execution_count": 48,
   "metadata": {},
   "outputs": [],
   "source": [
    "#Sort by Region Name\n",
    "df_msp_nc = df_msp_nc.sort_values('RegionName', ascending = True)"
   ]
  },
  {
   "cell_type": "code",
   "execution_count": 49,
   "metadata": {
    "scrolled": true
   },
   "outputs": [
    {
     "ename": "KeyError",
     "evalue": "'MunicipalCodeFIPS'",
     "output_type": "error",
     "traceback": [
      "\u001b[1;31m---------------------------------------------------------------------------\u001b[0m",
      "\u001b[1;31mKeyError\u001b[0m                                  Traceback (most recent call last)",
      "\u001b[1;32m~\\AppData\\Roaming\\Python\\Python37\\site-packages\\pandas\\core\\indexes\\base.py\u001b[0m in \u001b[0;36mget_loc\u001b[1;34m(self, key, method, tolerance)\u001b[0m\n\u001b[0;32m   2645\u001b[0m             \u001b[1;32mtry\u001b[0m\u001b[1;33m:\u001b[0m\u001b[1;33m\u001b[0m\u001b[1;33m\u001b[0m\u001b[0m\n\u001b[1;32m-> 2646\u001b[1;33m                 \u001b[1;32mreturn\u001b[0m \u001b[0mself\u001b[0m\u001b[1;33m.\u001b[0m\u001b[0m_engine\u001b[0m\u001b[1;33m.\u001b[0m\u001b[0mget_loc\u001b[0m\u001b[1;33m(\u001b[0m\u001b[0mkey\u001b[0m\u001b[1;33m)\u001b[0m\u001b[1;33m\u001b[0m\u001b[1;33m\u001b[0m\u001b[0m\n\u001b[0m\u001b[0;32m   2647\u001b[0m             \u001b[1;32mexcept\u001b[0m \u001b[0mKeyError\u001b[0m\u001b[1;33m:\u001b[0m\u001b[1;33m\u001b[0m\u001b[1;33m\u001b[0m\u001b[0m\n",
      "\u001b[1;32mpandas\\_libs\\index.pyx\u001b[0m in \u001b[0;36mpandas._libs.index.IndexEngine.get_loc\u001b[1;34m()\u001b[0m\n",
      "\u001b[1;32mpandas\\_libs\\index.pyx\u001b[0m in \u001b[0;36mpandas._libs.index.IndexEngine.get_loc\u001b[1;34m()\u001b[0m\n",
      "\u001b[1;32mpandas\\_libs\\hashtable_class_helper.pxi\u001b[0m in \u001b[0;36mpandas._libs.hashtable.PyObjectHashTable.get_item\u001b[1;34m()\u001b[0m\n",
      "\u001b[1;32mpandas\\_libs\\hashtable_class_helper.pxi\u001b[0m in \u001b[0;36mpandas._libs.hashtable.PyObjectHashTable.get_item\u001b[1;34m()\u001b[0m\n",
      "\u001b[1;31mKeyError\u001b[0m: 'MunicipalCodeFIPS'",
      "\nDuring handling of the above exception, another exception occurred:\n",
      "\u001b[1;31mKeyError\u001b[0m                                  Traceback (most recent call last)",
      "\u001b[1;32m<ipython-input-49-ca6bef1d260e>\u001b[0m in \u001b[0;36m<module>\u001b[1;34m\u001b[0m\n\u001b[0;32m      1\u001b[0m \u001b[1;31m#Change MunicipalCodeFIPS dtype to add leading 0's\u001b[0m\u001b[1;33m\u001b[0m\u001b[1;33m\u001b[0m\u001b[1;33m\u001b[0m\u001b[0m\n\u001b[1;32m----> 2\u001b[1;33m \u001b[0mdf_msp_nc\u001b[0m\u001b[1;33m.\u001b[0m\u001b[0mloc\u001b[0m\u001b[1;33m[\u001b[0m \u001b[1;33m:\u001b[0m\u001b[1;33m,\u001b[0m \u001b[1;34m'MunicipalCodeFIPS'\u001b[0m\u001b[1;33m]\u001b[0m \u001b[1;33m=\u001b[0m \u001b[0mdf_msp_nc\u001b[0m\u001b[1;33m[\u001b[0m\u001b[1;34m'MunicipalCodeFIPS'\u001b[0m\u001b[1;33m]\u001b[0m\u001b[1;33m.\u001b[0m\u001b[0mastype\u001b[0m\u001b[1;33m(\u001b[0m\u001b[0mstr\u001b[0m\u001b[1;33m)\u001b[0m\u001b[1;33m\u001b[0m\u001b[1;33m\u001b[0m\u001b[0m\n\u001b[0m\u001b[0;32m      3\u001b[0m \u001b[0mdf_msp_nc\u001b[0m\u001b[1;33m.\u001b[0m\u001b[0mdtypes\u001b[0m\u001b[1;33m\u001b[0m\u001b[1;33m\u001b[0m\u001b[0m\n",
      "\u001b[1;32m~\\AppData\\Roaming\\Python\\Python37\\site-packages\\pandas\\core\\frame.py\u001b[0m in \u001b[0;36m__getitem__\u001b[1;34m(self, key)\u001b[0m\n\u001b[0;32m   2798\u001b[0m             \u001b[1;32mif\u001b[0m \u001b[0mself\u001b[0m\u001b[1;33m.\u001b[0m\u001b[0mcolumns\u001b[0m\u001b[1;33m.\u001b[0m\u001b[0mnlevels\u001b[0m \u001b[1;33m>\u001b[0m \u001b[1;36m1\u001b[0m\u001b[1;33m:\u001b[0m\u001b[1;33m\u001b[0m\u001b[1;33m\u001b[0m\u001b[0m\n\u001b[0;32m   2799\u001b[0m                 \u001b[1;32mreturn\u001b[0m \u001b[0mself\u001b[0m\u001b[1;33m.\u001b[0m\u001b[0m_getitem_multilevel\u001b[0m\u001b[1;33m(\u001b[0m\u001b[0mkey\u001b[0m\u001b[1;33m)\u001b[0m\u001b[1;33m\u001b[0m\u001b[1;33m\u001b[0m\u001b[0m\n\u001b[1;32m-> 2800\u001b[1;33m             \u001b[0mindexer\u001b[0m \u001b[1;33m=\u001b[0m \u001b[0mself\u001b[0m\u001b[1;33m.\u001b[0m\u001b[0mcolumns\u001b[0m\u001b[1;33m.\u001b[0m\u001b[0mget_loc\u001b[0m\u001b[1;33m(\u001b[0m\u001b[0mkey\u001b[0m\u001b[1;33m)\u001b[0m\u001b[1;33m\u001b[0m\u001b[1;33m\u001b[0m\u001b[0m\n\u001b[0m\u001b[0;32m   2801\u001b[0m             \u001b[1;32mif\u001b[0m \u001b[0mis_integer\u001b[0m\u001b[1;33m(\u001b[0m\u001b[0mindexer\u001b[0m\u001b[1;33m)\u001b[0m\u001b[1;33m:\u001b[0m\u001b[1;33m\u001b[0m\u001b[1;33m\u001b[0m\u001b[0m\n\u001b[0;32m   2802\u001b[0m                 \u001b[0mindexer\u001b[0m \u001b[1;33m=\u001b[0m \u001b[1;33m[\u001b[0m\u001b[0mindexer\u001b[0m\u001b[1;33m]\u001b[0m\u001b[1;33m\u001b[0m\u001b[1;33m\u001b[0m\u001b[0m\n",
      "\u001b[1;32m~\\AppData\\Roaming\\Python\\Python37\\site-packages\\pandas\\core\\indexes\\base.py\u001b[0m in \u001b[0;36mget_loc\u001b[1;34m(self, key, method, tolerance)\u001b[0m\n\u001b[0;32m   2646\u001b[0m                 \u001b[1;32mreturn\u001b[0m \u001b[0mself\u001b[0m\u001b[1;33m.\u001b[0m\u001b[0m_engine\u001b[0m\u001b[1;33m.\u001b[0m\u001b[0mget_loc\u001b[0m\u001b[1;33m(\u001b[0m\u001b[0mkey\u001b[0m\u001b[1;33m)\u001b[0m\u001b[1;33m\u001b[0m\u001b[1;33m\u001b[0m\u001b[0m\n\u001b[0;32m   2647\u001b[0m             \u001b[1;32mexcept\u001b[0m \u001b[0mKeyError\u001b[0m\u001b[1;33m:\u001b[0m\u001b[1;33m\u001b[0m\u001b[1;33m\u001b[0m\u001b[0m\n\u001b[1;32m-> 2648\u001b[1;33m                 \u001b[1;32mreturn\u001b[0m \u001b[0mself\u001b[0m\u001b[1;33m.\u001b[0m\u001b[0m_engine\u001b[0m\u001b[1;33m.\u001b[0m\u001b[0mget_loc\u001b[0m\u001b[1;33m(\u001b[0m\u001b[0mself\u001b[0m\u001b[1;33m.\u001b[0m\u001b[0m_maybe_cast_indexer\u001b[0m\u001b[1;33m(\u001b[0m\u001b[0mkey\u001b[0m\u001b[1;33m)\u001b[0m\u001b[1;33m)\u001b[0m\u001b[1;33m\u001b[0m\u001b[1;33m\u001b[0m\u001b[0m\n\u001b[0m\u001b[0;32m   2649\u001b[0m         \u001b[0mindexer\u001b[0m \u001b[1;33m=\u001b[0m \u001b[0mself\u001b[0m\u001b[1;33m.\u001b[0m\u001b[0mget_indexer\u001b[0m\u001b[1;33m(\u001b[0m\u001b[1;33m[\u001b[0m\u001b[0mkey\u001b[0m\u001b[1;33m]\u001b[0m\u001b[1;33m,\u001b[0m \u001b[0mmethod\u001b[0m\u001b[1;33m=\u001b[0m\u001b[0mmethod\u001b[0m\u001b[1;33m,\u001b[0m \u001b[0mtolerance\u001b[0m\u001b[1;33m=\u001b[0m\u001b[0mtolerance\u001b[0m\u001b[1;33m)\u001b[0m\u001b[1;33m\u001b[0m\u001b[1;33m\u001b[0m\u001b[0m\n\u001b[0;32m   2650\u001b[0m         \u001b[1;32mif\u001b[0m \u001b[0mindexer\u001b[0m\u001b[1;33m.\u001b[0m\u001b[0mndim\u001b[0m \u001b[1;33m>\u001b[0m \u001b[1;36m1\u001b[0m \u001b[1;32mor\u001b[0m \u001b[0mindexer\u001b[0m\u001b[1;33m.\u001b[0m\u001b[0msize\u001b[0m \u001b[1;33m>\u001b[0m \u001b[1;36m1\u001b[0m\u001b[1;33m:\u001b[0m\u001b[1;33m\u001b[0m\u001b[1;33m\u001b[0m\u001b[0m\n",
      "\u001b[1;32mpandas\\_libs\\index.pyx\u001b[0m in \u001b[0;36mpandas._libs.index.IndexEngine.get_loc\u001b[1;34m()\u001b[0m\n",
      "\u001b[1;32mpandas\\_libs\\index.pyx\u001b[0m in \u001b[0;36mpandas._libs.index.IndexEngine.get_loc\u001b[1;34m()\u001b[0m\n",
      "\u001b[1;32mpandas\\_libs\\hashtable_class_helper.pxi\u001b[0m in \u001b[0;36mpandas._libs.hashtable.PyObjectHashTable.get_item\u001b[1;34m()\u001b[0m\n",
      "\u001b[1;32mpandas\\_libs\\hashtable_class_helper.pxi\u001b[0m in \u001b[0;36mpandas._libs.hashtable.PyObjectHashTable.get_item\u001b[1;34m()\u001b[0m\n",
      "\u001b[1;31mKeyError\u001b[0m: 'MunicipalCodeFIPS'"
     ]
    }
   ],
   "source": [
    "#Change MunicipalCodeFIPS dtype to add leading 0's\n",
    "df_msp_nc.loc[ :, 'MunicipalCodeFIPS'] = df_msp_nc['MunicipalCodeFIPS'].astype(str)"
   ]
  },
  {
   "cell_type": "code",
   "execution_count": null,
   "metadata": {
    "scrolled": false
   },
   "outputs": [],
   "source": [
    "#Add leading 0's and check to ensure they were added\n",
    "df_msp_nc.loc[ :, 'MunicipalCodeFIPS'] = df_msp_nc['MunicipalCodeFIPS'].str.zfill(3)\n",
    "df_msp_nc.head(5)"
   ]
  },
  {
   "cell_type": "code",
   "execution_count": null,
   "metadata": {
    "scrolled": false
   },
   "outputs": [],
   "source": [
    "# Set Index to Region Name\n",
    "df_msp_nc.set_index(df_msp_nc['RegionName'], inplace = True)\n",
    "df_msp_nc"
   ]
  },
  {
   "cell_type": "code",
   "execution_count": null,
   "metadata": {
    "scrolled": true
   },
   "outputs": [],
   "source": [
    "# Drop Region Name column\n",
    "df_msp_nc.drop('RegionName', axis = 1, inplace = True)\n",
    "df_msp_nc"
   ]
  },
  {
   "cell_type": "code",
   "execution_count": null,
   "metadata": {},
   "outputs": [],
   "source": [
    "#Save to csv file for export in Excel\n",
    "#df_msp_nc.to_csv('./Updates/STG_ZLLW_County_MedianListingPrice_AllHomes.txt', sep ='\\t')"
   ]
  },
  {
   "cell_type": "code",
   "execution_count": null,
   "metadata": {},
   "outputs": [],
   "source": [
    "#Reset Index for upload to database\n",
    "df_msp_nc = df_msp_nc.reset_index()    "
   ]
  },
  {
   "cell_type": "code",
   "execution_count": null,
   "metadata": {},
   "outputs": [],
   "source": [
    "#Fill NaN values for upload to database\n",
    "df_msp_nc['Metro'] = df_msp_nc['Metro'].replace(np.nan,'', regex=True)\n",
    "\n",
    "column_list = df_msp_nc.columns.values\n",
    "for i in column_list:\n",
    "    df_msp_nc.loc[df_msp_nc[i].isnull(),i]=0"
   ]
  },
  {
   "cell_type": "code",
   "execution_count": null,
   "metadata": {},
   "outputs": [],
   "source": [
    "#Connect to database and create cursor\n",
    "con = pyodbc.connect('Driver={SQL Server};'\n",
    "                      'Server=TITANIUM-BOOK;'\n",
    "                      'Database=DataDashboard;'\n",
    "                      'Trusted_Connection=yes;',\n",
    "                    autocommit=True)\n",
    "\n",
    "c = con.cursor()"
   ]
  },
  {
   "cell_type": "code",
   "execution_count": null,
   "metadata": {},
   "outputs": [],
   "source": [
    "#Drop old backup table\n",
    "c.execute('drop table STG_ZLLW_County_MedianListingPrice_AllHomes_BACKUP')"
   ]
  },
  {
   "cell_type": "code",
   "execution_count": null,
   "metadata": {},
   "outputs": [],
   "source": [
    "#Create new backup\n",
    "c.execute('''sp_rename 'dbo.STG_ZLLW_County_MedianListingPrice_AllHomes','STG_ZLLW_County_MedianListingPrice_AllHomes_BACKUP';''')"
   ]
  },
  {
   "cell_type": "code",
   "execution_count": null,
   "metadata": {},
   "outputs": [],
   "source": [
    "c.execute('''USE [DataDashboard]\n",
    "\n",
    "SET ANSI_NULLS ON\n",
    "\n",
    "SET QUOTED_IDENTIFIER ON\n",
    "\n",
    "CREATE TABLE [dbo].[STG_ZLLW_County_MedianListingPrice_AllHomes](\n",
    "\t[RegionName] [varchar](40) NULL,\n",
    "\t[State] [varchar](2) NULL,\n",
    "\t[Metro] [varchar](40) NULL,\n",
    "\t[StateCodeFIPS] [varchar](2) NULL,\n",
    "\t[MunicipalCodeFIPS] [varchar](3) NULL,\n",
    "\t[SizeRank] [smallint] NULL,\n",
    "\t[2010-01] [float] NULL,\n",
    "\t[2010-02] [float] NULL,\n",
    "\t[2010-03] [float] NULL,\n",
    "\t[2010-04] [float] NULL,\n",
    "\t[2010-05] [float] NULL,\n",
    "\t[2010-06] [float] NULL,\n",
    "\t[2010-07] [float] NULL,\n",
    "\t[2010-08] [float] NULL,\n",
    "\t[2010-09] [float] NULL,\n",
    "\t[2010-10] [float] NULL,\n",
    "\t[2010-11] [float] NULL,\n",
    "\t[2010-12] [float] NULL,\n",
    "\t[2011-01] [float] NULL,\n",
    "\t[2011-02] [float] NULL,\n",
    "\t[2011-03] [float] NULL,\n",
    "\t[2011-04] [float] NULL,\n",
    "\t[2011-05] [float] NULL,\n",
    "\t[2011-06] [float] NULL,\n",
    "\t[2011-07] [float] NULL,\n",
    "\t[2011-08] [float] NULL,\n",
    "\t[2011-09] [float] NULL,\n",
    "\t[2011-10] [float] NULL,\n",
    "\t[2011-11] [float] NULL,\n",
    "\t[2011-12] [float] NULL,\n",
    "\t[2012-01] [float] NULL,\n",
    "\t[2012-02] [float] NULL,\n",
    "\t[2012-03] [float] NULL,\n",
    "\t[2012-04] [float] NULL,\n",
    "\t[2012-05] [float] NULL,\n",
    "\t[2012-06] [float] NULL,\n",
    "\t[2012-07] [float] NULL,\n",
    "\t[2012-08] [float] NULL,\n",
    "\t[2012-09] [float] NULL,\n",
    "\t[2012-10] [float] NULL,\n",
    "\t[2012-11] [float] NULL,\n",
    "\t[2012-12] [float] NULL,\n",
    "\t[2013-01] [float] NULL,\n",
    "\t[2013-02] [float] NULL,\n",
    "\t[2013-03] [float] NULL,\n",
    "\t[2013-04] [float] NULL,\n",
    "\t[2013-05] [float] NULL,\n",
    "\t[2013-06] [float] NULL,\n",
    "\t[2013-07] [float] NULL,\n",
    "\t[2013-08] [float] NULL,\n",
    "\t[2013-09] [float] NULL,\n",
    "\t[2013-10] [float] NULL,\n",
    "\t[2013-11] [float] NULL,\n",
    "\t[2013-12] [float] NULL,\n",
    "\t[2014-01] [float] NULL,\n",
    "\t[2014-02] [float] NULL,\n",
    "\t[2014-03] [float] NULL,\n",
    "\t[2014-04] [float] NULL,\n",
    "\t[2014-05] [float] NULL,\n",
    "\t[2014-06] [float] NULL,\n",
    "\t[2014-07] [float] NULL,\n",
    "\t[2014-08] [float] NULL,\n",
    "\t[2014-09] [float] NULL,\n",
    "\t[2014-10] [float] NULL,\n",
    "\t[2014-11] [float] NULL,\n",
    "\t[2014-12] [float] NULL,\n",
    "\t[2015-01] [float] NULL,\n",
    "\t[2015-02] [float] NULL,\n",
    "\t[2015-03] [float] NULL,\n",
    "\t[2015-04] [float] NULL,\n",
    "\t[2015-05] [float] NULL,\n",
    "\t[2015-06] [float] NULL,\n",
    "\t[2015-07] [float] NULL,\n",
    "\t[2015-08] [float] NULL,\n",
    "\t[2015-09] [float] NULL,\n",
    "\t[2015-10] [float] NULL,\n",
    "\t[2015-11] [float] NULL,\n",
    "\t[2015-12] [float] NULL,\n",
    "\t[2016-01] [float] NULL,\n",
    "\t[2016-02] [float] NULL,\n",
    "\t[2016-03] [float] NULL,\n",
    "\t[2016-04] [float] NULL,\n",
    "\t[2016-05] [float] NULL,\n",
    "\t[2016-06] [float] NULL,\n",
    "\t[2016-07] [float] NULL,\n",
    "\t[2016-08] [float] NULL,\n",
    "\t[2016-09] [float] NULL,\n",
    "\t[2016-10] [float] NULL,\n",
    "\t[2016-11] [float] NULL,\n",
    "\t[2016-12] [float] NULL,\n",
    "\t[2017-01] [float] NULL,\n",
    "\t[2017-02] [float] NULL,\n",
    "\t[2017-03] [float] NULL,\n",
    "\t[2017-04] [float] NULL,\n",
    "\t[2017-05] [float] NULL,\n",
    "\t[2017-06] [float] NULL,\n",
    "\t[2017-07] [float] NULL,\n",
    "\t[2017-08] [float] NULL,\n",
    "\t[2017-09] [float] NULL,\n",
    "\t[2017-10] [float] NULL,\n",
    "\t[2017-11] [float] NULL,\n",
    "\t[2017-12] [float] NULL,\n",
    "\t[2018-01] [float] NULL,\n",
    "\t[2018-02] [float] NULL,\n",
    "\t[2018-03] [float] NULL,\n",
    "\t[2018-04] [float] NULL,\n",
    "\t[2018-05] [float] NULL,\n",
    "\t[2018-06] [float] NULL,\n",
    "\t[2018-07] [float] NULL,\n",
    "\t[2018-08] [float] NULL,\n",
    "\t[2018-09] [float] NULL,\n",
    "\t[2018-10] [float] NULL,\n",
    "\t[2018-11] [float] NULL,\n",
    "\t[2018-12] [float] NULL,\n",
    "\t[2019-01] [float] NULL,\n",
    "\t[2019-02] [float] NULL,\n",
    "\t[2019-03] [float] NULL,\n",
    "\t[2019-04] [float] NULL,\n",
    "\t[2019-05] [float] NULL,\n",
    "\t[2019-06] [float] NULL,\n",
    "\t[2019-07] [float] NULL,\n",
    "\t[2019-08] [float] NULL,\n",
    "\t[2019-09] [float] NULL,\n",
    "\t[2019-10] [float] NULL,\n",
    "\t[2019-11] [float] NULL,\n",
    "\t[2019-12] [float] NULL,\n",
    "    [2020-01] [float] NULL,\n",
    "    [2020-02] [float] NULL,\n",
    "    [2020-03] [float] NULL,\n",
    "    [2020-04] [float] NULL,\n",
    "    [2020-05] [float] NULL,\n",
    "    [2020-06] [float] NULL,\n",
    "    [2020-07] [float] NULL,\n",
    "    [2020-08] [float] NULL,\n",
    "    [2020-09] [float] NULL,\n",
    "    [2020-10] [float] NULL,\n",
    "    [2020-11] [float] NULL,\n",
    "    [2020-12] [float] NULL,\n",
    "    [2021-01] [float] NULL,\n",
    "    [2021-02] [float] NULL,\n",
    "    [2021-03] [float] NULL,\n",
    "    [2021-04] [float] NULL,\n",
    "    [2021-05] [float] NULL,\n",
    "    [2021-06] [float] NULL\n",
    "    [2021-07] [float] NULL,\n",
    "    [2021-08] [float] NULL,\n",
    "    [2021-09] [float] NULL,\n",
    "    [2021-10] [float] NULL,\n",
    "    [2021-11] [float] NULL,\n",
    "    [2021-12] [float] NULL,\n",
    "    [2022-01] [float] NULL,\n",
    "    [2022-02] [float] NULL,\n",
    "    [2022-03] [float] NULL,\n",
    "    [2022-04] [float] NULL,\n",
    "    [2022-05] [float] NULL,\n",
    "    [2022-06] [float] NULL,\n",
    "    [2022-07] [float] NULL,\n",
    "    [2022-08] [float] NULL,\n",
    "    [2022-09] [float] NULL,\n",
    "    [2022-10] [float] NULL,\n",
    "    [2022-11] [float] NULL,\n",
    "    [2022-12] [float] NULL\n",
    ") ON [PRIMARY]''')"
   ]
  },
  {
   "cell_type": "code",
   "execution_count": null,
   "metadata": {},
   "outputs": [],
   "source": [
    "params = urllib.parse.quote_plus(r'Driver={SQL Server};' \n",
    "                                 r'Server=TITANIUM-BOOK;'\n",
    "                                 r'Database=DataDashboard;'\n",
    "                                 r'Trusted_Connection=yes;')\n",
    "\n",
    "engine = create_engine(\"mssql+pyodbc:///?odbc_connect=%s\" % params)\n",
    "\n",
    "#warning: discard old table if exists\n",
    "df_msp_nc.to_sql('STG_ZLLW_County_MedianListingPrice_AllHomes', con=engine, if_exists='replace', index=False)"
   ]
  }
 ],
 "metadata": {
  "kernelspec": {
   "display_name": "Python 3",
   "language": "python",
   "name": "python3"
  },
  "language_info": {
   "codemirror_mode": {
    "name": "ipython",
    "version": 3
   },
   "file_extension": ".py",
   "mimetype": "text/x-python",
   "name": "python",
   "nbconvert_exporter": "python",
   "pygments_lexer": "ipython3",
   "version": "3.7.6"
  }
 },
 "nbformat": 4,
 "nbformat_minor": 2
}
