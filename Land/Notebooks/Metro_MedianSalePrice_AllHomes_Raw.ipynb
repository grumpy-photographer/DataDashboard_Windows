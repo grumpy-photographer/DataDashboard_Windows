{
 "cells": [
  {
   "cell_type": "code",
   "execution_count": 4,
   "metadata": {},
   "outputs": [],
   "source": [
    "# Imports\r\n",
    "import pandas as pd\r\n",
    "import pyodbc\r\n",
    "import sqlalchemy\r\n",
    "from sqlalchemy import create_engine\r\n",
    "import urllib\r\n",
    "import numpy as np"
   ]
  },
  {
   "cell_type": "code",
   "execution_count": 5,
   "metadata": {},
   "outputs": [],
   "source": [
    "# create backups\r\n",
    "df_backup = pd.read_csv(\"./Updates/STG_ZLLW_Metro_MedianSalePrice_AllHomes_Raw.txt\", sep = \"\\t\")\r\n",
    "df_backup.to_csv(\"./Backups/STG_ZLLW_Metro_MedianSalePrice_AllHomes_Raw.txt\", sep=\"\\t\")"
   ]
  },
  {
   "cell_type": "code",
   "execution_count": 6,
   "metadata": {},
   "outputs": [],
   "source": [
    "# read data\r\n",
    "df = pd.read_csv(\"http://files.zillowstatic.com/research/public_v2/median_sale_price/Metro_median_sale_price_uc_SFRCondo_raw_month.csv\")"
   ]
  },
  {
   "cell_type": "code",
   "execution_count": 7,
   "metadata": {},
   "outputs": [],
   "source": [
    "# Filter to NC\r\n",
    "df_nc = df[df[\"StateName\"] == \"NC\"]"
   ]
  },
  {
   "cell_type": "code",
   "execution_count": 9,
   "metadata": {},
   "outputs": [],
   "source": [
    "# set index\r\n",
    "df_nc.set_index(\"RegionName\", inplace=True)\r\n",
    "\r\n",
    "# save as text file\r\n",
    "df_nc.to_csv(\"./Updates/STG_ZLLW_Metro_MedianSalePrice_AllHomes_Raw.txt\", sep = \"\\t\")"
   ]
  }
 ],
 "metadata": {
  "kernelspec": {
   "display_name": "Python 3",
   "name": "python3"
  },
  "language_info": {
   "codemirror_mode": {
    "name": "ipython",
    "version": 3
   },
   "file_extension": ".py",
   "mimetype": "text/x-python",
   "name": "python",
   "nbconvert_exporter": "python",
   "pygments_lexer": "ipython3",
   "version": "3.7.9"
  },
  "orig_nbformat": 2
 },
 "nbformat": 4,
 "nbformat_minor": 2
}