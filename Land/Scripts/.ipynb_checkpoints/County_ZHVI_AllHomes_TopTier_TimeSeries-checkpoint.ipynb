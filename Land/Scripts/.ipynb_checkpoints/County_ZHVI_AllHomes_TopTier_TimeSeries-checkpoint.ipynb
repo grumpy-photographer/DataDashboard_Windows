{
 "cells": [
  {
   "cell_type": "code",
   "execution_count": null,
   "metadata": {},
   "outputs": [],
   "source": [
    "# Imports\n",
    "import pandas as pd\n",
    "import pyodbc\n",
    "import sqlalchemy\n",
    "from sqlalchemy import create_engine\n",
    "import urllib\n",
    "import numpy as np"
   ]
  },
  {
   "cell_type": "code",
   "execution_count": null,
   "metadata": {},
   "outputs": [],
   "source": [
    "# Read data\n",
    "df = pd.read_csv(\n",
    "    \"http://files.zillowstatic.com/research/public_v2/zhvi/County_zhvi_uc_sfrcondo_tier_0.67_1.0_sm_sa_mon.csv\"\n",
    ")"
   ]
  },
  {
   "cell_type": "code",
   "execution_count": null,
   "metadata": {},
   "outputs": [],
   "source": [
    "# Filter to NC\n",
    "df_nc = df[df[\"State\"] == \"NC\"]"
   ]
  },
  {
   "cell_type": "code",
   "execution_count": null,
   "metadata": {
    "scrolled": true
   },
   "outputs": [],
   "source": [
    "# Fill MunicipalCodeFIPS to 3 digits\n",
    "df_nc.loc[:, \"MunicipalCodeFIPS\"] = df_nc[\"MunicipalCodeFIPS\"].astype(str)\n",
    "df_nc.loc[:, \"MunicipalCodeFIPS\"] = df_nc[\"MunicipalCodeFIPS\"].str.zfill(3)"
   ]
  },
  {
   "cell_type": "code",
   "execution_count": null,
   "metadata": {},
   "outputs": [],
   "source": [
    "# Set index\n",
    "df_nc.set_index(\"RegionName\", inplace=True)\n",
    "\n",
    "# Save to txt file\n",
    "df_nc.to_csv(\n",
    "    \"./Updates/STG_ZLLW_County_ZHVI_AllHomes_TopTier_TimeSeries.txt\", sep=\"\\t\")"
   ]
  }
 ],
 "metadata": {
  "kernelspec": {
   "display_name": "Python 3",
   "language": "python",
   "name": "python3"
  },
  "language_info": {
   "codemirror_mode": {
    "name": "ipython",
    "version": 3
   },
   "file_extension": ".py",
   "mimetype": "text/x-python",
   "name": "python",
   "nbconvert_exporter": "python",
   "pygments_lexer": "ipython3",
   "version": "3.7.9"
  }
 },
 "nbformat": 4,
 "nbformat_minor": 4
}
