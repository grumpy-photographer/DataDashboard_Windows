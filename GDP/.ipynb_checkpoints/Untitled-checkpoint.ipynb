{
 "cells": [
  {
   "cell_type": "markdown",
   "metadata": {},
   "source": [
    "# Imports"
   ]
  },
  {
   "cell_type": "code",
   "execution_count": 1,
   "metadata": {},
   "outputs": [],
   "source": [
    "# Imports\n",
    "import urllib\n",
    "from io import BytesIO\n",
    "from zipfile import ZipFile\n",
    "import pandas as pd\n",
    "import requests\n",
    "from sqlalchemy import create_engine\n",
    "import pyodbc\n",
    "\n",
    "import os"
   ]
  },
  {
   "cell_type": "markdown",
   "metadata": {},
   "source": [
    "# Get and Clean Data"
   ]
  },
  {
   "cell_type": "code",
   "execution_count": 5,
   "metadata": {},
   "outputs": [],
   "source": [
    " def earningsCAINC5N():  # done\n",
    "        print(\"Updating CAINC5N Earnings Version.\")\n",
    "        response = requests.get(\"https://apps.bea.gov/regional/zip/CAINC5N.zip\")\n",
    "        zip = ZipFile(BytesIO(response.content))\n",
    "        files = zip.namelist()\n",
    "        with zip.open(files[34]) as csvfile:\n",
    "            data_frame = pd.read_csv(csvfile, encoding=\"ISO-8859-1\", sep=\",\")\n",
    "            data_frame.drop(data_frame.tail(4).index, inplace=True)\n",
    "            data_frame[\"GeoFIPS\"] = data_frame[\"GeoFIPS\"].str.replace('\"', '')\n",
    "            data_frame.set_index(data_frame[\"GeoFIPS\"], inplace=True)\n",
    "            data_frame.drop(\"GeoFIPS\", axis=1, inplace=True)\n",
    "            \n",
    "            data_frame = data_frame.rename(columns = {'Description':'Economic_Measure_Name', 'GeoFIPS':'GeoArea_FIPS', 'GeoName':'GeoArea_Name'})\n",
    "            data_frame = data_frame.drop(['Region', 'TableName', 'LineCode', 'IndustryClassification', 'Unit'], axis=1)\n",
    "            data_frame = data_frame.drop(' 37000')\n",
    "            data_frame = data_frame.drop_duplicates()\n",
    "            \n",
    "            linecodes = {\n",
    "                10: \"./Updates/STG_BEA_CA5N_PersonalIncome.txt\",\n",
    "                20: \"./Updates/STG_BEA_CA5N_Population.txt\",\n",
    "                30: \"./Updates/STG_BEA_CA5N_Per_Capita_Personal_Income.txt\",\n",
    "                35: \"./Updates/STG_BEA_CA5N_Earnings_by_Place_of_Work.txt\",\n",
    "                50: \"./Updates/STG_BEA_CA5N_Wages_and_Salaries.txt\",\n",
    "                60: \"./Updates/STG_BEA_CA5N_Supplements_to_Wages_and_Salaries.txt\",\n",
    "                70: \"./Updates/STG_BEA_CA5N_Proprietors_Income.txt\",\n",
    "                81: \"./Updates/STG_BEA_CA5N_Farm_Earnings.txt\",\n",
    "                82: \"./Updates/STG_BEA_CA5N_Nonfarm_Earnings.txt\",\n",
    "                90: \"./Updates/STG_BEA_CA5N_Private_NonFarm_Earnings.txt\",\n",
    "                100: \"./Updates/STG_BEA_CA5N_Forestry_Fishing_and_Related_Activities.txt\",\n",
    "                200: \"./Updates/STG_BEA_CA5N_Mining_Quarrying_and_Oil_and_Technical_Services.txt\",\n",
    "                300: \"./Updates/STG_BEA_CA5N_Utilities.txt\",\n",
    "                400: \"./Updates/STG_BEA_CA5N_Construction.txt\",\n",
    "                500: \"./Updates/STG_BEA_CA5N_Manufacturing.txt\",\n",
    "                600: \"./Updates/STG_BEA_CA5N_Wholesale_Trade.txt\",\n",
    "                700: \"./Updates/STG_BEA_CA5N_Retail_Trade.txt\",\n",
    "                800: \"./Updates/STG_BEA_CA5N_Transporatation_and_Warehousing.txt\",\n",
    "                900: \"./Updates/STG_BEA_CA5N_Information.txt\",\n",
    "                1000: \"./Updates/STG_BEA_CA5N_Finance_and_Insurance.txt\",\n",
    "                1100: \"./Updates/STG_BEA_CA5N_Real_Estate_and_Rental_and_Leasing.txt\",\n",
    "                1200: \"./Updates/STG_BEA_CA5N_Professional_Scientific_and_Technical_Services.txt\",\n",
    "                1300: \"./Updates/STG_BEA_CA5N_Management_of_Companies_and_Enterprises.txt\",\n",
    "                1400: \"./Updates/STG_BEA_CA5N_Administrative_and_Support_and_Waste_Management_and_Remediation_Services.txt\",\n",
    "                1500: \"./Updates/STG_BEA_CA5N_Educational_Services.txt\",\n",
    "                1600: \"./Updates/STG_BEA_CA5N_Health_Care_and_Social_Assistance.txt\",\n",
    "                1700: \"./Updates/STG_BEA_CA5N_Arts_Entertainment_and_Recreation.txt\",\n",
    "                1800: \"./Updates/STG_BEA_CA5N_Accommodation_and_Food_Services.txt\",\n",
    "                1900: \"./Updates/STG_BEA_CA5N_Other_Services.txt\",\n",
    "                2000: \"./Updates/STG_BEA_CA5N_Government_and_Government_Enterprises.txt\",\n",
    "                2001: \"./Updates/STG_BEA_CA5N_Federal_Civilian.txt\",\n",
    "                2002: \"./Updates/STG_BEA_CA5N_Military.txt\",\n",
    "                2010: \"./Updates/STG_BEA_CA5N_State_and_Local.txt\",\n",
    "                2011: \"./Updates/STG_BEA_CA5N_State_Government.txt\",\n",
    "                2012: \"./Updates/STG_BEA_CA5N_Local_Government.txt\",\n",
    "            }\n",
    "            for key, value in linecodes.items():\n",
    "                data_frame.to_csv(value, sep=\"\\t\")"
   ]
  },
  {
   "cell_type": "code",
   "execution_count": 6,
   "metadata": {},
   "outputs": [
    {
     "name": "stdout",
     "output_type": "stream",
     "text": [
      "Updating CAINC5N Earnings Version.\n"
     ]
    }
   ],
   "source": [
    "earningsCAINC5N()"
   ]
  },
  {
   "cell_type": "code",
   "execution_count": 7,
   "metadata": {},
   "outputs": [
    {
     "data": {
      "text/plain": [
       "Index(['GeoFIPS', 'GeoArea_Name', 'Economic_Measure_Name', '2001', '2002',\n",
       "       '2003', '2004', '2005', '2006', '2007', '2008', '2009', '2010', '2011',\n",
       "       '2012', '2013', '2014', '2015', '2016', '2017', '2018'],\n",
       "      dtype='object')"
      ]
     },
     "execution_count": 7,
     "metadata": {},
     "output_type": "execute_result"
    }
   ],
   "source": [
    "df = pd.read_csv('./Updates/STG_BEA_CA5N_Accommodation_and_Food_Services.txt', sep='\\t')\n",
    "df.columns"
   ]
  },
  {
   "cell_type": "code",
   "execution_count": null,
   "metadata": {},
   "outputs": [],
   "source": [
    "df = df.melt(id_vars=['GeoArea_FIPS','GeoArea_Name','Economic_Measure_Code', 'Economic_Measure_Name', 'Published_UOM', 'Unit_of_Measure_Code', 'Data_Period_Type', 'Calculation_Type', 'Default_Scale', 'Estimation_Qualifier', 'Measure_Hierarchy_Level'], var_name='Date', value_name='Published_Value')\n"
   ]
  }
 ],
 "metadata": {
  "kernelspec": {
   "display_name": "Python 3",
   "language": "python",
   "name": "python3"
  },
  "language_info": {
   "codemirror_mode": {
    "name": "ipython",
    "version": 3
   },
   "file_extension": ".py",
   "mimetype": "text/x-python",
   "name": "python",
   "nbconvert_exporter": "python",
   "pygments_lexer": "ipython3",
   "version": "3.7.6"
  }
 },
 "nbformat": 4,
 "nbformat_minor": 2
}
